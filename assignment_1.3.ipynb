{
 "cells": [
  {
   "cell_type": "markdown",
   "metadata": {},
   "source": [
    "## Exercises\n",
    "1. Create a function that will determine whether a number is positive or negative.\n",
    "\n",
    "2. Write functions to calculate the area of different shapes like square (area_of_square(side_length)),         rectangle (area_of_rectangle(length, width)), and circle (area_of_circle(radius)).\n",
    "\n",
    "3. Write a function called calculate_grade that takes a score as input and returns the corresponding letter grade (A, B, C, D, F) based on a grading scale (e.g., A: 90-100, B: 80-89, etc.)."
   ]
  },
  {
   "cell_type": "markdown",
   "metadata": {},
   "source": [
    "\n",
    "1. Create a function that will determine whether a number is positive or negative."
   ]
  },
  {
   "cell_type": "code",
   "execution_count": 36,
   "metadata": {},
   "outputs": [
    {
     "name": "stdout",
     "output_type": "stream",
     "text": [
      "This is a Positive number.\n"
     ]
    }
   ],
   "source": [
    "## Create a function that will determine whether a number is positive or negative.\n",
    "\n",
    "digit = float(input(\"Key in a number: \"))\n",
    "if digit < 0:\n",
    "    print(\"This is a Negative number.\")\n",
    "else:\n",
    "    print(\"This is a Positive number.\")"
   ]
  },
  {
   "cell_type": "markdown",
   "metadata": {},
   "source": [
    "2. Write functions to calculate the area of different shapes like square (area_of_square(side_length)),         rectangle (area_of_rectangle(length, width)), and circle (area_of_circle(radius))."
   ]
  },
  {
   "cell_type": "code",
   "execution_count": 23,
   "metadata": {},
   "outputs": [
    {
     "name": "stdout",
     "output_type": "stream",
     "text": [
      "Calculate Shape Area\n",
      "The area of rectangle is 430.\n"
     ]
    }
   ],
   "source": [
    "# Calculating area of different shapes\n",
    "\n",
    "# define a function for calculating\n",
    "# the area of a shapes\n",
    "def calculate_area(name):\n",
    "\t\n",
    "\tif name == \"rectangle\":\n",
    "\t\tl = int(input(\"Enter rectangle's length: \"))\n",
    "\t\tb = int(input(\"Enter rectangle's width: \"))\n",
    "\t\t\n",
    "\t\t# calculate area of rectangle\n",
    "\t\trect_area = l * b   \n",
    "\t\tprint(f\"The area of rectangle is {rect_area}.\")\n",
    "\t\t\n",
    "\telif name == \"square\":\n",
    "\t\ts = int(input(\"Enter square's side length: \"))\n",
    "\t\tsqt_area = s * s\n",
    "\t\tprint(f\"The area of square is {sqt_area}.\")\n",
    "\t\t\n",
    "\telif name =='circle':\n",
    "\t\tr = int(input('Enter the radius of the circle: '))\n",
    "\t\tpi = 3.14\n",
    "\t# calculate area of the circle\t\n",
    "\t\tcircle_area = pi * r * r\n",
    "\t\tprint(f\"The area of the circle is {circle_area}.\")\t\t\n",
    " \n",
    "\telse:\n",
    "\t    print(\"Sorry! This shape is not available\")\n",
    "\n",
    "# driver code\n",
    "if __name__ == \"__main__\" :\n",
    "\tprint(\"Calculate Shape Area\")\n",
    "shape_name = input(\"Enter the name of shape whose area you want to find: \")\n",
    "\n",
    "# function calling\n",
    "calculate_area(shape_name)\n",
    "\n",
    "\n",
    "\n"
   ]
  },
  {
   "cell_type": "markdown",
   "metadata": {},
   "source": [
    "3. Write a function called calculate_grade that takes a score as input and returns the corresponding letter grade (A, B, C, D, F) based on a grading scale (e.g., A: 90-100, B: 80-89, etc.)."
   ]
  },
  {
   "cell_type": "code",
   "execution_count": 56,
   "metadata": {},
   "outputs": [
    {
     "name": "stdout",
     "output_type": "stream",
     "text": [
      "You have Failed the Exam\n"
     ]
    }
   ],
   "source": [
    " \n",
    "# >= 90 = A\n",
    "# >= 80 = B\n",
    "# >= 70 = C\n",
    "# >= 60 = D\n",
    "# >= 60 = F \n",
    "\n",
    "\n",
    "score = int(input('Enter Your score to know your grade'))\n",
    "\n",
    "if score >= 90:\n",
    "    print ('You have attained grade: A ')\n",
    "elif score >= 80:\n",
    "    print('You have attained grade:  B ')\n",
    "elif score >= 70:\n",
    "    print('You have attained grade:  C ')\n",
    "elif score >= 60:\n",
    "    print('You have attained grade:  D ')\n",
    "elif score >= 50:\n",
    "    print ('You have attained grade: F ')\n",
    "else:\n",
    "    print('You have Failed the Exam')"
   ]
  }
 ],
 "metadata": {
  "kernelspec": {
   "display_name": "Python 3",
   "language": "python",
   "name": "python3"
  },
  "language_info": {
   "codemirror_mode": {
    "name": "ipython",
    "version": 3
   },
   "file_extension": ".py",
   "mimetype": "text/x-python",
   "name": "python",
   "nbconvert_exporter": "python",
   "pygments_lexer": "ipython3",
   "version": "3.12.3"
  }
 },
 "nbformat": 4,
 "nbformat_minor": 2
}
