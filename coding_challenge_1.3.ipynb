{
 "cells": [
  {
   "cell_type": "markdown",
   "metadata": {},
   "source": []
  },
  {
   "cell_type": "markdown",
   "metadata": {},
   "source": [
    "## Exercises\n",
    "1. Write a program that generates a random number between 1 and 100. The user has to guess the number in a limited number of attempts. Provide feedback after each guess (higher, lower, or correct).\n",
    "\n",
    "2. Write a program that allows the user to enter two numbers and an operator (+, -, *, /) and perform the corresponding  calculation. Use conditional statements to handle different operators\n",
    "\n",
    "3. Write a program that uses a while loop to check if a number entered by the user is a prime number (divisible only by 1 and itself).\n",
    "\n",
    "4. Write a program that uses a for loop to print the multiplication table of a number entered by the user (up to a specified number of multiples).\n",
    "\n",
    "5. Write a program that uses a for loop to calculate the sum of numbers from 1 to a given number entered by the user.\n",
    "\n",
    "6. Write a program that uses a for loop to print a pattern of stars or characters like a triangle.\n",
    "\n",
    "7. Write a program that uses a while loop to generate a random number between 1 and 100. The user has to guess the number within a limited number of attempts. Provide feedback after each guess.\n"
   ]
  },
  {
   "cell_type": "markdown",
   "metadata": {},
   "source": []
  },
  {
   "cell_type": "markdown",
   "metadata": {},
   "source": [
    "1. Write a program that generates a random number between 1 and 100. The user has to guess the number in a limited number of attempts. Provide feedback after each guess (higher, lower, or correct)."
   ]
  },
  {
   "cell_type": "code",
   "execution_count": 2,
   "metadata": {},
   "outputs": [
    {
     "name": "stdout",
     "output_type": "stream",
     "text": [
      "The computer has generated a random number between 1 and 100. You have 10 attempts to guess the correct number.\n",
      "Your guess is less than the random number. Please Try Again.\n",
      "Your guess is less than the random number. Please Try Again.\n",
      "Your guess is less than the random number. Please Try Again.\n",
      "Your guess is less than the random number. Please Try Again.\n",
      "Your guess is less than the random number. Please Try Again.\n",
      "Your guess is greater than the random number. Please Try Again.\n",
      "Your guess is greater than the random number. Please Try Again.\n",
      "Your guess is greater than the random number. Please Try Again.\n",
      "Your guess is less than the random number. Please Try Again.\n",
      "Your guess is less than the random number. Please Try Again.\n",
      "Sorry, your 10 attempts are over. The correct number was 80.\n"
     ]
    }
   ],
   "source": [
    "import random\n",
    "\n",
    "# Generate a random number between 1 and 100\n",
    "random_number = random.randint(1, 100)\n",
    "\n",
    "# put a maximum number of attempts to 10\n",
    "max_attempts = 10\n",
    "\n",
    "print(\"The computer has generated a random number between 1 and 100. You have 10 attempts to guess the correct number.\")\n",
    "\n",
    "for attempt in range(1, max_attempts + 1):\n",
    "    # Let the player guess\n",
    "    guess = int(input(f\"Make your Guess {attempt}: \"))\n",
    "    \n",
    "    if guess < random_number:\n",
    "        print(\"Your guess is less than the random number. Please Try Again.\")\n",
    "    elif guess > random_number:\n",
    "        print(\"Your guess is greater than the random number. Please Try Again.\")\n",
    "    else:\n",
    "        print(\"Congratulations!! You correctly guessed the random number.\")\n",
    "        break  # Exit the loop if the guess is correct\n",
    "\n",
    "# If the loop finishes without the correct guess, display a message\n",
    "else:\n",
    "    print(f\"Sorry, your 10 attempts are over. The correct number was {random_number}.\")"
   ]
  }
 ],
 "metadata": {
  "kernelspec": {
   "display_name": "Python 3",
   "language": "python",
   "name": "python3"
  },
  "language_info": {
   "codemirror_mode": {
    "name": "ipython",
    "version": 3
   },
   "file_extension": ".py",
   "mimetype": "text/x-python",
   "name": "python",
   "nbconvert_exporter": "python",
   "pygments_lexer": "ipython3",
   "version": "3.12.3"
  }
 },
 "nbformat": 4,
 "nbformat_minor": 2
}
